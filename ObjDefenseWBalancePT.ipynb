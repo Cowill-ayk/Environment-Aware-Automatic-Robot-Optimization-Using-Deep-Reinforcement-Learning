{
 "cells": [
  {
   "cell_type": "code",
   "execution_count": 2,
   "id": "1081b27a-58f6-44c5-a102-6a4a474d25eb",
   "metadata": {},
   "outputs": [
    {
     "name": "stdout",
     "output_type": "stream",
     "text": [
      "Installing mediapy:\n",
      "\u001b[33mDEPRECATION: distro-info 1.1build1 has a non-standard version number. pip 24.0 will enforce this behaviour change. A possible replacement is to upgrade to a newer version of distro-info or contact the author to suggest that they release a version with a conforming version number. Discussion can be found at https://github.com/pypa/pip/issues/12063\u001b[0m\u001b[33m\n",
      "\u001b[0m\u001b[33mDEPRECATION: gpg 1.16.0-unknown has a non-standard version number. pip 24.0 will enforce this behaviour change. A possible replacement is to upgrade to a newer version of gpg or contact the author to suggest that they release a version with a conforming version number. Discussion can be found at https://github.com/pypa/pip/issues/12063\u001b[0m\u001b[33m\n",
      "\u001b[0m\u001b[33mDEPRECATION: python-debian 0.1.43ubuntu1 has a non-standard version number. pip 24.0 will enforce this behaviour change. A possible replacement is to upgrade to a newer version of python-debian or contact the author to suggest that they release a version with a conforming version number. Discussion can be found at https://github.com/pypa/pip/issues/12063\u001b[0m\u001b[33m\n",
      "\u001b[0m"
     ]
    }
   ],
   "source": [
    "#@title Import packages for plotting and creating graphics\n",
    "import time\n",
    "import itertools\n",
    "import numpy as np\n",
    "from typing import Callable, NamedTuple, Optional, Union, List\n",
    "\n",
    "# Graphics and plotting.\n",
    "print('Installing mediapy:')\n",
    "!command -v ffmpeg >/dev/null || (apt update && apt install -y ffmpeg)\n",
    "!pip install -q mediapy\n",
    "import mediapy as media\n",
    "import matplotlib.pyplot as plt\n",
    "\n",
    "# More legible printing from numpy.\n",
    "np.set_printoptions(precision=3, suppress=True, linewidth=100)"
   ]
  },
  {
   "cell_type": "code",
   "execution_count": 1,
   "id": "b38d56cc-81fa-445b-99df-2e443791ec02",
   "metadata": {},
   "outputs": [
    {
     "name": "stdout",
     "output_type": "stream",
     "text": [
      "env: XLA_PYTHON_CLIENT_PREALLOCATE=false\n",
      "env: XLA_PYTHON_CLIENT_ALLOCATOR=platform\n"
     ]
    }
   ],
   "source": [
    "#@title Import MuJoCo, MJX, and Brax\n",
    "\n",
    "from datetime import datetime\n",
    "import functools\n",
    "import jax\n",
    "from jax import numpy as jp\n",
    "import numpy as np\n",
    "from typing import Any, Dict, Tuple, Union\n",
    "\n",
    "from brax import envs\n",
    "from brax import math\n",
    "from brax.base import Base, Motion, Transform\n",
    "from brax.envs.base import Env, State\n",
    "from brax.training.agents.ppo import train as ppo\n",
    "from brax.training.agents.ppo import networks as ppo_networks\n",
    "from brax.io import model\n",
    "from etils import epath\n",
    "from flax import struct\n",
    "from matplotlib import pyplot as plt\n",
    "import mediapy as media\n",
    "from ml_collections import config_dict\n",
    "import mujoco\n",
    "from mujoco import mjx\n",
    "import functools\n",
    "from datetime import datetime\n",
    "from brax import envs\n",
    "%env XLA_PYTHON_CLIENT_PREALLOCATE=false\n",
    "%env XLA_PYTHON_CLIENT_ALLOCATOR=platform\n",
    "#@title Create Environment With Scaling Variables\n",
    "import sys\n",
    "import numpy as np\n",
    "from env_model_generator import humanoid_genesis\n",
    "from train import tRain\n",
    "from HumanoidEnv import createIt\n",
    "from base_env import MjxEnv"
   ]
  },
  {
   "cell_type": "code",
   "execution_count": 3,
   "id": "d25aeb52-e153-4564-800d-06c404abf1cb",
   "metadata": {},
   "outputs": [],
   "source": [
    "epsilon = 0.1\n",
    "init_training_state = None\n",
    "num_scaling_var = 17 # Must be tuned according to the base model\n",
    "init_scaling_vars = np.zeros(num_scaling_var)\n",
    "N = 5\n",
    "path_to_base_env = \"/home/name/Desktop/Codes/ScalingOptimization (1)\"\n",
    "num_iterations_to_go = 500\n",
    "mutation_limits_wstrt = {\n",
    "    \"max\" : [epsilon for i in range(num_scaling_var)],\n",
    "    \"min\" : [-epsilon for i in range(num_scaling_var)]\n",
    "}\n",
    "mutation_limits_explr = {\n",
    "    \"max\" : [2*epsilon for i in range(num_scaling_var)],\n",
    "    \"min\" : [-2*epsilon for i in range(num_scaling_var)]\n",
    "}\n",
    "num_evals = 5\n",
    "eelim_factor = 0.21 # Early Elimination Limiting Factor"
   ]
  },
  {
   "cell_type": "code",
   "execution_count": 7,
   "id": "8c01a7e2-9a21-4e1f-9f39-86a4fe0e7503",
   "metadata": {},
   "outputs": [
    {
     "name": "stdout",
     "output_type": "stream",
     "text": [
      "env: MUJOCO_GL=glx\n"
     ]
    }
   ],
   "source": [
    "init_env = envs.get_environment (createIt(humanoid_genesis([0 for i in range(num_scaling_var)], \"init\"), \"init\"))\n",
    "\n",
    "\n",
    "jit_reset = jax.jit(init_env.reset)\n",
    "jit_step = jax.jit(init_env.step)\n",
    "\n",
    "# instantiate the renderer\n",
    "%env MUJOCO_GL=glx\n",
    "renderer = None\n",
    "renderer = mujoco.Renderer(init_env.model, width = 1920, height = 1080 )"
   ]
  },
  {
   "cell_type": "code",
   "execution_count": 4,
   "id": "c639d198-2244-40a7-be4e-594f1f9c9d62",
   "metadata": {},
   "outputs": [],
   "source": [
    "path = humanoid_genesis([0 for i in range(num_scaling_var)], \"standup\", base_path = \"/home/name/Desktop/Codes/Data/Xml_files/humanoid_contact.xml\")\n",
    "#@title Humanoid Env\n",
    "class HumanoidStandUp(MjxEnv):\n",
    "\n",
    "  def __init__(\n",
    "      self,\n",
    "      forward_reward_weight=1.25,\n",
    "      ctrl_cost_weight=0.1,\n",
    "      healthy_reward=5.0,\n",
    "      terminate_when_unhealthy=True,\n",
    "      healthy_z_range=(-2.0, 7.0),\n",
    "      healthy_x_range=(-30.0, 20.0),\n",
    "      healthy_y_range=(-10.0, 10.0),\n",
    "      reset_noise_scale=1e-2,\n",
    "      exclude_current_positions_from_observation=True,\n",
    "      **kwargs,\n",
    "  ):\n",
    "      mj_model = mujoco.MjModel.from_xml_path(path)\n",
    "      mj_model.opt.solver = mujoco.mjtSolver.mjSOL_CG\n",
    "      mj_model.opt.iterations = 6\n",
    "      mj_model.opt.ls_iterations = 6\n",
    "      physics_steps_per_control_step = 5\n",
    "      kwargs['physics_steps_per_control_step'] = kwargs.get(\n",
    "          'physics_steps_per_control_step', physics_steps_per_control_step)\n",
    "\n",
    "      super().__init__(mj_model=mj_model, **kwargs)\n",
    "\n",
    "      self.x_velocity_after = 0\n",
    "      self.x_velocity_before = 0\n",
    "\n",
    "      self._forward_reward_weight = forward_reward_weight\n",
    "      self.tt_penalty = 0\n",
    "      self._ctrl_cost_weight = ctrl_cost_weight\n",
    "      self._healthy_reward = healthy_reward\n",
    "      self._terminate_when_unhealthy = terminate_when_unhealthy\n",
    "      self._healthy_x_range = healthy_x_range\n",
    "      self._healthy_y_range = healthy_y_range\n",
    "      self._healthy_z_range = healthy_z_range\n",
    "      self._reset_noise_scale = reset_noise_scale\n",
    "      self._exclude_current_positions_from_observation = (\n",
    "          exclude_current_positions_from_observation\n",
    "      )\n",
    "\n",
    "  def reset(self, rng: jp.ndarray) -> State:\n",
    "      \"\"\"Resets the environment to an initial state.\"\"\"\n",
    "      rng, rng1, rng2 = jax.random.split(rng, 3)\n",
    "\n",
    "      low, hi = -self._reset_noise_scale, self._reset_noise_scale\n",
    "      qpos = self.sys.qpos0 + jax.random.uniform(\n",
    "          rng1, (self.sys.nq,), minval=low, maxval=hi\n",
    "      )\n",
    "      qvel = jax.random.uniform(\n",
    "          rng2, (self.sys.nv,), minval=low, maxval=hi\n",
    "      )\n",
    "\n",
    "      data = self.pipeline_init(qpos, qvel)\n",
    "\n",
    "      obs = self._get_obs(data, jp.zeros(self.sys.nu))\n",
    "      reward, done, zero = jp.zeros(3)\n",
    "      metrics = {\n",
    "          'uph_cost' : zero,\n",
    "          'reward_quadctrl': zero,\n",
    "      }\n",
    "      return State(data, obs, reward, done, metrics)\n",
    "\n",
    "  def step(self, state: State, action: jp.ndarray) -> State:\n",
    "      \"\"\"Runs one timestep of the environment's dynamics.\"\"\"\n",
    "\n",
    "      data0 = state.pipeline_state\n",
    "      data = self.pipeline_step(data0, action)\n",
    "\n",
    "      com_after = data.subtree_com[2]\n",
    "      uph_cost = (com_after[2] - 0) / self.dt\n",
    "\n",
    "\n",
    "\n",
    "      ctrl_cost = self._ctrl_cost_weight * jp.sum(jp.square(action))\n",
    "      obs = self._get_obs(data, action)\n",
    "      reward = uph_cost - ctrl_cost + 2\n",
    "      reward *= 0.01\n",
    "      print(\"ctrl_cost:\", ctrl_cost)\n",
    "      state.metrics.update(\n",
    "          uph_cost = uph_cost,\n",
    "          reward_quadctrl=-ctrl_cost,\n",
    "      )\n",
    "      return state.replace(\n",
    "          pipeline_state=data, obs=obs, reward=reward, done=0.0\n",
    "      )\n",
    "  def _get_obs(\n",
    "      self, data: mjx.Data, action: jp.ndarray\n",
    "  ) -> jp.ndarray:\n",
    "      \"\"\"Observes humanoid body position, velocities, and angles.\"\"\"\n",
    "      position = data.qpos\n",
    "      if self._exclude_current_positions_from_observation:\n",
    "          position = position[2:]\n",
    "\n",
    "      # external_contact_forces are excluded\n",
    "      return jp.concatenate([\n",
    "          position,\n",
    "          data.qvel,\n",
    "          data.cinert[1:].ravel(),\n",
    "          data.cvel[1:].ravel(),\n",
    "          data.qfrc_actuator,\n",
    "      ])\n",
    "\n",
    "envs.register_environment(\"HumStandUp\", HumanoidStandUp)"
   ]
  },
  {
   "cell_type": "code",
   "execution_count": 5,
   "id": "378726f2-9fb5-4290-b8b4-17202bd1cbde",
   "metadata": {},
   "outputs": [],
   "source": [
    "pt_env = envs.get_environment (\"HumStandUp\")"
   ]
  },
  {
   "cell_type": "code",
   "execution_count": 6,
   "id": "0ba00a8b-a1dc-4bfb-856b-0df34796f09f",
   "metadata": {},
   "outputs": [],
   "source": [
    "num_evals = 10\n",
    "train_fn = functools.partial(\n",
    "    tRain, num_timesteps=20_000_000, num_evals=num_evals, reward_scaling=0.001,\n",
    "    episode_length=1000, normalize_observations=True, action_repeat=1,\n",
    "    unroll_length=10, num_minibatches=32, num_updates_per_batch=8,\n",
    "    discounting=0.97, learning_rate=3e-4, entropy_cost=1e-3, num_envs=2048,\n",
    "    batch_size=1024, seed=0)\n",
    "\n",
    "\n",
    "x_data = []\n",
    "y_data = []\n",
    "ydataerr = []\n",
    "times = [datetime.now()]\n",
    "max_y, min_y = 5000, 0\n",
    "\n",
    "rew_lower_limit = lambda r,t: r*jp.exp(eelim_factor*(t-num_evals+1))\n",
    "\n",
    "def progress(num_steps, metrics, cmprsn_rewards = None):\n",
    "  #Array data update\n",
    "  times.append(datetime.now())\n",
    "  x_data.append(num_steps)\n",
    "  y_data.append(metrics['eval/episode_reward'])\n",
    "  ydataerr.append(metrics['eval/episode_reward_std'])\n",
    "  #Plot drawing\n",
    "  plt.xlim([0, train_fn.keywords['num_timesteps'] * 1.25])\n",
    "  plt.ylim([min_y, max_y])\n",
    "\n",
    "  plt.xlabel('# environment steps')\n",
    "  plt.ylabel('reward per episode')\n",
    "  plt.title(f'y={y_data[-1]:.3f}')\n",
    "\n",
    "  plt.errorbar(\n",
    "      x_data, y_data, yerr=ydataerr)\n",
    "  plt.show()\n",
    "  #Early elimination calculation\n",
    "  if cmprsn_rewards == None : \n",
    "    return False\n",
    "  else : \n",
    "    t = len(y_data) - 1\n",
    "    r_t = cmprsn_rewards[t]\n",
    "    if y_data[-1] < rew_lower_limit(r_t,t): \n",
    "      return True\n",
    "    else : \n",
    "      return False\n"
   ]
  },
  {
   "cell_type": "code",
   "execution_count": null,
   "id": "9d3285f9-df43-44fa-9904-036e8abbc8af",
   "metadata": {},
   "outputs": [
    {
     "name": "stdout",
     "output_type": "stream",
     "text": [
      "ctrl_cost: Traced<ShapedArray(float32[])>with<DynamicJaxprTrace(level=5/0)>\n"
     ]
    },
    {
     "data": {
      "image/png": "[encoded data removed]",
      "text/plain": [
       "<Figure size 640x480 with 1 Axes>"
      ]
     },
     "metadata": {},
     "output_type": "display_data"
    },
    {
     "name": "stdout",
     "output_type": "stream",
     "text": [
      "ctrl_cost: Traced<ShapedArray(float32[])>with<DynamicJaxprTrace(level=6/1)>\n",
      "{'eval/walltime': 117.77570939064026, 'training/sps': 5968.816869163843, 'training/walltime': 384.2905638217926, 'training/entropy_loss': Array(nan, dtype=float32), 'training/policy_loss': Array(nan, dtype=float32), 'training/total_loss': Array(nan, dtype=float32), 'training/v_loss': Array(nan, dtype=float32), 'eval/episode_reward': Array(nan, dtype=float32), 'eval/episode_reward_quadctrl': Array(nan, dtype=float32), 'eval/episode_uph_cost': Array(nan, dtype=float32), 'eval/episode_reward_std': Array(nan, dtype=float32), 'eval/episode_reward_quadctrl_std': Array(nan, dtype=float32), 'eval/episode_uph_cost_std': Array(nan, dtype=float32), 'eval/avg_episode_length': Array(1000., dtype=float32), 'eval/epoch_eval_time': 29.08067488670349, 'eval/sps': 4401.54846813838}\n"
     ]
    },
    {
     "data": {
      "image/png": "[encoded data removed]",
      "text/plain": [
       "<Figure size 640x480 with 1 Axes>"
      ]
     },
     "metadata": {},
     "output_type": "display_data"
    }
   ],
   "source": [
    "make_inference_fn, params, _,ancestor_training_state = train_fn(environment=pt_env, progress_fn=progress)\n",
    "print(f'time to jit: {times[1] - times[0]}')\n",
    "print(f'time to train: {times[-1] - times[1]}')"
   ]
  }
 ],
 "metadata": {
  "kernelspec": {
   "display_name": "Python 3 (ipykernel)",
   "language": "python",
   "name": "python3"
  },
  "language_info": {
   "codemirror_mode": {
    "name": "ipython",
    "version": 3
   },
   "file_extension": ".py",
   "mimetype": "text/x-python",
   "name": "python",
   "nbconvert_exporter": "python",
   "pygments_lexer": "ipython3",
   "version": "3.10.12"
  }
 },
 "nbformat": 4,
 "nbformat_minor": 5
}
